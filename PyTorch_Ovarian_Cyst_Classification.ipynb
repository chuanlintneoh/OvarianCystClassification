{
  "nbformat": 4,
  "nbformat_minor": 0,
  "metadata": {
    "colab": {
      "provenance": [],
      "gpuType": "T4",
      "authorship_tag": "ABX9TyMqbadJH6rkPUX0jcvSP7tr",
      "include_colab_link": true
    },
    "kernelspec": {
      "name": "python3",
      "display_name": "Python 3"
    },
    "language_info": {
      "name": "python"
    },
    "accelerator": "GPU"
  },
  "cells": [
    {
      "cell_type": "markdown",
      "metadata": {
        "id": "view-in-github",
        "colab_type": "text"
      },
      "source": [
        "<a href=\"https://colab.research.google.com/github/chuanlintneoh/OvarianCystClassification/blob/main/PyTorch_Ovarian_Cyst_Classification.ipynb\" target=\"_parent\"><img src=\"https://colab.research.google.com/assets/colab-badge.svg\" alt=\"Open In Colab\"/></a>"
      ]
    },
    {
      "cell_type": "code",
      "source": [
        "from google.colab import drive\n",
        "drive.mount('/content/drive', force_remount=True)\n",
        "\n",
        "import zipfile\n",
        "import torch\n",
        "import torch.nn as nn\n",
        "import torch.optim as optim\n",
        "import torchvision.transforms as transforms\n",
        "import torchvision.models as models\n",
        "from torch.utils.data import DataLoader, Dataset\n",
        "import numpy as np\n",
        "import cv2\n",
        "import os\n",
        "from sklearn.model_selection import train_test_split\n",
        "from sklearn.utils.class_weight import compute_class_weight\n",
        "from sklearn.metrics import roc_auc_score, classification_report"
      ],
      "metadata": {
        "colab": {
          "base_uri": "https://localhost:8080/"
        },
        "id": "y4WsGEhnbF6q",
        "outputId": "4c7b083a-51fa-4ca5-da4b-b4882e7f9cb3"
      },
      "execution_count": null,
      "outputs": [
        {
          "output_type": "stream",
          "name": "stdout",
          "text": [
            "Mounted at /content/drive\n"
          ]
        }
      ]
    },
    {
      "cell_type": "code",
      "source": [
        "# Locate dataset\n",
        "default_dir = '/content/drive/MyDrive/UM Artificial Intelligence/Y3S1/Ovarian Cyst Prediction/Implementation'\n",
        "print(os.listdir(default_dir))\n",
        "e2e_dir = os.path.join(default_dir, 'e2e.zip')\n",
        "print(e2e_dir)\n",
        "# Create temporary directory for session\n",
        "extract_path = '/content/pytorch_ovarian_cyst_dataset'\n",
        "os.makedirs(extract_path, exist_ok=True)\n",
        "# Unzip file\n",
        "with zipfile.ZipFile(e2e_dir, 'r') as zip_ref:\n",
        "    zip_ref.extractall(extract_path)\n",
        "# Validate unzipped dataset contents\n",
        "data_dir = os.path.join(extract_path, 'e2e')\n",
        "print(os.listdir(data_dir))"
      ],
      "metadata": {
        "colab": {
          "base_uri": "https://localhost:8080/"
        },
        "id": "aK5OwkP0-LYK",
        "outputId": "2756fc72-fc73-4913-dfb3-6933a1d80f13"
      },
      "execution_count": null,
      "outputs": [
        {
          "output_type": "stream",
          "name": "stdout",
          "text": [
            "['e2e.zip', 'PyTorch DenseNet121', 'TensorFlow DenseNet121']\n",
            "/content/drive/MyDrive/UM Artificial Intelligence/Y3S1/Ovarian Cyst Prediction/Implementation/e2e.zip\n",
            "['Benign', 'Malignant']\n"
          ]
        }
      ]
    },
    {
      "cell_type": "code",
      "execution_count": null,
      "metadata": {
        "id": "w2nMhq4Ea5SZ"
      },
      "outputs": [],
      "source": [
        "# Custom dataset class\n",
        "class OvarianCancerDataset(Dataset):\n",
        "    def __init__(self, image_dir, transform=None):\n",
        "        self.image_paths = []\n",
        "        self.labels = []\n",
        "        self.transform = transform\n",
        "        class_map = {\"Benign\": 0, \"Malignant\": 1}\n",
        "\n",
        "        for class_name, label in class_map.items():\n",
        "            class_folder = os.path.join(image_dir, class_name)\n",
        "            for image_name in os.listdir(class_folder):\n",
        "                img_path = os.path.join(class_folder, image_name)\n",
        "                self.image_paths.append(img_path)\n",
        "                self.labels.append(label)\n",
        "\n",
        "    def __len__(self):\n",
        "        return len(self.image_paths)\n",
        "\n",
        "    def __getitem__(self, idx):\n",
        "        img = cv2.imread(self.image_paths[idx], cv2.IMREAD_GRAYSCALE)\n",
        "        img = cv2.cvtColor(img, cv2.COLOR_GRAY2RGB)  # Convert grayscale to RGB\n",
        "        img = cv2.resize(img, (224, 224))\n",
        "        if self.transform:\n",
        "            img = self.transform(img)\n",
        "        label = self.labels[idx]\n",
        "        return img, torch.tensor(label, dtype=torch.long)"
      ]
    },
    {
      "cell_type": "code",
      "source": [
        "# Define transformations based on document preprocessing details\n",
        "transform = transforms.Compose([\n",
        "    transforms.ToPILImage(),\n",
        "    transforms.RandomResizedCrop(224, scale=(0.8, 1.0)),  # Random resize crop with 80-100% of image size\n",
        "    transforms.RandomHorizontalFlip(p=0.5),  # 50% chance of horizontal flip\n",
        "    transforms.RandomRotation(10),  # Rotate images randomly within ±10 degrees\n",
        "    transforms.ColorJitter(brightness=0.2, contrast=0.2, saturation=0.2, hue=0.1),  # Adjust brightness, contrast, saturation, hue\n",
        "    transforms.ToTensor(),\n",
        "    transforms.Normalize(mean=[0.5, 0.5, 0.5], std=[0.5, 0.5, 0.5])\n",
        "])"
      ],
      "metadata": {
        "id": "p9aviDjUbKNQ"
      },
      "execution_count": null,
      "outputs": []
    },
    {
      "cell_type": "code",
      "source": [
        "# Load dataset\n",
        "dataset = OvarianCancerDataset(data_dir, transform=transform)"
      ],
      "metadata": {
        "id": "f494pXmGbOqY"
      },
      "execution_count": null,
      "outputs": []
    },
    {
      "cell_type": "code",
      "source": [
        "# Split dataset\n",
        "train_size = int(0.8 * len(dataset))\n",
        "val_size = len(dataset) - train_size\n",
        "train_dataset, val_dataset = torch.utils.data.random_split(dataset, [train_size, val_size])\n",
        "train_loader = DataLoader(train_dataset, batch_size=32, shuffle=True)\n",
        "val_loader = DataLoader(val_dataset, batch_size=32, shuffle=False)"
      ],
      "metadata": {
        "id": "CPkUqNXkbwDH"
      },
      "execution_count": null,
      "outputs": []
    },
    {
      "cell_type": "code",
      "source": [
        "# Compute class weights\n",
        "labels = np.array([label.item() for _, label in train_dataset])\n",
        "class_weights = compute_class_weight('balanced', classes=np.unique(labels), y=labels)\n",
        "class_weights = torch.tensor(class_weights, dtype=torch.float32)"
      ],
      "metadata": {
        "id": "7F4ivvQib0fO"
      },
      "execution_count": null,
      "outputs": []
    },
    {
      "cell_type": "code",
      "source": [
        "# Define model\n",
        "model = models.densenet121(pretrained=True)\n",
        "model.classifier = nn.Linear(1024, 1)  # Binary classification\n",
        "model = model.to(torch.device(\"cuda\" if torch.cuda.is_available() else \"cpu\"))\n",
        "\n",
        "# Loss and optimizer\n",
        "criterion = nn.BCEWithLogitsLoss(pos_weight=class_weights[1])\n",
        "optimizer = optim.SGD(model.parameters(), lr=0.001, momentum=0.9, weight_decay=1e-4)"
      ],
      "metadata": {
        "colab": {
          "base_uri": "https://localhost:8080/"
        },
        "id": "x4e5q3qNb24e",
        "outputId": "5da3727d-78c0-4e44-cffa-53821ab57e87"
      },
      "execution_count": null,
      "outputs": [
        {
          "output_type": "stream",
          "name": "stderr",
          "text": [
            "/usr/local/lib/python3.11/dist-packages/torchvision/models/_utils.py:208: UserWarning: The parameter 'pretrained' is deprecated since 0.13 and may be removed in the future, please use 'weights' instead.\n",
            "  warnings.warn(\n",
            "/usr/local/lib/python3.11/dist-packages/torchvision/models/_utils.py:223: UserWarning: Arguments other than a weight enum or `None` for 'weights' are deprecated since 0.13 and may be removed in the future. The current behavior is equivalent to passing `weights=DenseNet121_Weights.IMAGENET1K_V1`. You can also use `weights=DenseNet121_Weights.DEFAULT` to get the most up-to-date weights.\n",
            "  warnings.warn(msg)\n",
            "Downloading: \"https://download.pytorch.org/models/densenet121-a639ec97.pth\" to /root/.cache/torch/hub/checkpoints/densenet121-a639ec97.pth\n",
            "100%|██████████| 30.8M/30.8M [00:00<00:00, 137MB/s]\n"
          ]
        }
      ]
    },
    {
      "cell_type": "code",
      "source": [
        "# Training function\n",
        "def train_model(model, train_loader, criterion, optimizer, epochs=30, scheduler=None):\n",
        "    model.train()\n",
        "    device = torch.device(\"cuda\" if torch.cuda.is_available() else \"cpu\")\n",
        "    for epoch in range(epochs):\n",
        "        total_loss = 0\n",
        "        all_labels = []\n",
        "        all_preds = []\n",
        "        for images, labels in train_loader:\n",
        "            images, labels = images.to(device), labels.to(device).float().unsqueeze(1)\n",
        "            optimizer.zero_grad()\n",
        "            outputs = model(images)\n",
        "            loss = criterion(outputs, labels)\n",
        "            loss.backward()\n",
        "            optimizer.step()\n",
        "            if scheduler:\n",
        "                scheduler.step()\n",
        "            total_loss += loss.item()\n",
        "            probs = torch.sigmoid(outputs).detach().cpu().numpy()\n",
        "            all_preds.extend(probs)\n",
        "            all_labels.extend(labels.cpu().numpy())\n",
        "        auc = roc_auc_score(all_labels, all_preds)\n",
        "        print(f\"Epoch {epoch+1}/{epochs}, Loss: {total_loss:.4f}, AUC: {auc:.4f}\")"
      ],
      "metadata": {
        "id": "ATVzo2B6b5Tl"
      },
      "execution_count": null,
      "outputs": []
    },
    {
      "cell_type": "code",
      "source": [
        "# Train model\n",
        "scheduler = optim.lr_scheduler.StepLR(optimizer, step_size=20, gamma=0.1)\n",
        "train_model(model, train_loader, criterion, optimizer, scheduler=scheduler)"
      ],
      "metadata": {
        "colab": {
          "base_uri": "https://localhost:8080/"
        },
        "id": "WcF3LyyUb58X",
        "outputId": "90d42d35-679f-41fa-b1b2-43ede881b6df"
      },
      "execution_count": null,
      "outputs": [
        {
          "output_type": "stream",
          "name": "stdout",
          "text": [
            "Epoch 1/30, Loss: 5.5395, AUC: 0.5533\n",
            "Epoch 2/30, Loss: 5.2645, AUC: 0.6860\n",
            "Epoch 3/30, Loss: 5.1409, AUC: 0.7463\n",
            "Epoch 4/30, Loss: 4.6673, AUC: 0.8509\n",
            "Epoch 5/30, Loss: 4.5318, AUC: 0.8572\n",
            "Epoch 6/30, Loss: 4.3748, AUC: 0.8942\n",
            "Epoch 7/30, Loss: 4.3404, AUC: 0.8720\n",
            "Epoch 8/30, Loss: 4.6225, AUC: 0.8666\n",
            "Epoch 9/30, Loss: 4.5348, AUC: 0.8889\n",
            "Epoch 10/30, Loss: 4.3287, AUC: 0.8713\n",
            "Epoch 11/30, Loss: 4.5992, AUC: 0.8791\n",
            "Epoch 12/30, Loss: 4.2915, AUC: 0.8798\n",
            "Epoch 13/30, Loss: 4.6540, AUC: 0.8743\n",
            "Epoch 14/30, Loss: 4.7168, AUC: 0.8382\n",
            "Epoch 15/30, Loss: 4.3367, AUC: 0.8666\n",
            "Epoch 16/30, Loss: 4.4506, AUC: 0.8402\n",
            "Epoch 17/30, Loss: 4.5289, AUC: 0.9026\n",
            "Epoch 18/30, Loss: 4.3508, AUC: 0.8663\n",
            "Epoch 19/30, Loss: 4.3426, AUC: 0.8753\n",
            "Epoch 20/30, Loss: 4.6558, AUC: 0.8490\n",
            "Epoch 21/30, Loss: 4.3776, AUC: 0.8594\n",
            "Epoch 22/30, Loss: 4.7068, AUC: 0.8382\n",
            "Epoch 23/30, Loss: 4.6533, AUC: 0.8550\n",
            "Epoch 24/30, Loss: 4.4009, AUC: 0.8464\n",
            "Epoch 25/30, Loss: 4.6530, AUC: 0.8590\n",
            "Epoch 26/30, Loss: 4.3787, AUC: 0.8676\n",
            "Epoch 27/30, Loss: 4.7146, AUC: 0.8374\n",
            "Epoch 28/30, Loss: 4.6549, AUC: 0.8544\n",
            "Epoch 29/30, Loss: 4.2641, AUC: 0.8810\n",
            "Epoch 30/30, Loss: 4.3477, AUC: 0.8709\n"
          ]
        }
      ]
    },
    {
      "cell_type": "code",
      "source": [
        "# Evaluation function\n",
        "def evaluate_model(model, val_loader):\n",
        "    model.eval()\n",
        "    device = torch.device(\"cuda\" if torch.cuda.is_available() else \"cpu\")\n",
        "    all_labels = []\n",
        "    all_preds = []\n",
        "    with torch.no_grad():\n",
        "        for images, labels in val_loader:\n",
        "            images, labels = images.to(device), labels.to(device).float().unsqueeze(1)\n",
        "            outputs = model(images)\n",
        "            probs = torch.sigmoid(outputs).detach().cpu().numpy()\n",
        "            all_preds.extend(probs)\n",
        "            all_labels.extend(labels.cpu().numpy())\n",
        "    auc = roc_auc_score(all_labels, all_preds)\n",
        "    print(f\"Validation AUC: {auc:.4f}\")\n",
        "    print(classification_report(all_labels, (np.array(all_preds) > 0.5).astype(int), target_names=[\"Benign\", \"Malignant\"]))"
      ],
      "metadata": {
        "id": "n84Lbb9tb-bO"
      },
      "execution_count": null,
      "outputs": []
    },
    {
      "cell_type": "code",
      "source": [
        "# Evaluate model\n",
        "evaluate_model(model, val_loader)"
      ],
      "metadata": {
        "colab": {
          "base_uri": "https://localhost:8080/"
        },
        "id": "wZZT6egIcARO",
        "outputId": "41d53cfa-418d-421a-e429-d2e350fbc5bb"
      },
      "execution_count": null,
      "outputs": [
        {
          "output_type": "stream",
          "name": "stdout",
          "text": [
            "Validation AUC: 0.7509\n",
            "              precision    recall  f1-score   support\n",
            "\n",
            "      Benign       0.80      0.77      0.79        31\n",
            "   Malignant       0.63      0.67      0.65        18\n",
            "\n",
            "    accuracy                           0.73        49\n",
            "   macro avg       0.72      0.72      0.72        49\n",
            "weighted avg       0.74      0.73      0.74        49\n",
            "\n"
          ]
        }
      ]
    }
  ]
}